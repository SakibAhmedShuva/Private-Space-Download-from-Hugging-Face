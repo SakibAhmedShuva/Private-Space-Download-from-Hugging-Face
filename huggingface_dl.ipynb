{
 "cells": [
  {
   "cell_type": "code",
   "execution_count": null,
   "id": "28d84928",
   "metadata": {},
   "outputs": [],
   "source": [
    "!pip install huggingface_hub==0.30.2"
   ]
  },
  {
   "cell_type": "code",
   "execution_count": null,
   "id": "6d62c5bf",
   "metadata": {},
   "outputs": [],
   "source": [
    "from huggingface_hub import snapshot_download\n",
    "import os\n",
    "\n",
    "# Set your token\n",
    "os.environ[\"HF_TOKEN\"] = \"hf_swfder33rfedf\"\n",
    "\n",
    "# Download the space\n",
    "snapshot_download(\n",
    "    repo_id=\"organization/space\",\n",
    "    repo_type=\"space\",\n",
    "    local_dir=\"./downloaded_space\",\n",
    "    # token=\"your_token_here\"  # Optional if you've set HF_TOKEN\n",
    ")"
   ]
  },
  {
   "cell_type": "code",
   "execution_count": null,
   "id": "e9ecd07e",
   "metadata": {},
   "outputs": [],
   "source": []
  }
 ],
 "metadata": {
  "kernelspec": {
   "display_name": "Python 3",
   "language": "python",
   "name": "python3"
  },
  "language_info": {
   "codemirror_mode": {
    "name": "ipython",
    "version": 3
   },
   "file_extension": ".py",
   "mimetype": "text/x-python",
   "name": "python",
   "nbconvert_exporter": "python",
   "pygments_lexer": "ipython3",
   "version": "3.10.11"
  }
 },
 "nbformat": 4,
 "nbformat_minor": 5
}
